{
  "cells": [
    {
      "cell_type": "markdown",
      "metadata": {
        "id": "dfPmxStIjZci"
      },
      "source": [
        "**Question 1:** Two Sum\n",
        "\n",
        "Given an array of integers `nums` and an integer target, return indices of the two numbers such that they\n",
        "add up to `target`.\n",
        "\n",
        "You may assume that each input would have exactly one solution, and you may not use the same\n",
        "element twice.\n",
        "\n",
        "You can return the answer in any order.\n",
        "\n",
        "**Example:**\n",
        "\n",
        "Input: nums = `[2,7,11,15]`, target = `9`\n",
        "\n",
        "Output: `[0,1]`\n",
        "\n",
        "Explanation: Because `nums[0]` + `nums[1]` == `9`, we return [0, 1]."
      ]
    },
    {
      "cell_type": "code",
      "execution_count": 33,
      "metadata": {
        "colab": {
          "base_uri": "https://localhost:8080/"
        },
        "id": "YoIgp-YejZck",
        "outputId": "c1fd2179-6623-4cc5-f64f-06c488cb66c0"
      },
      "outputs": [
        {
          "output_type": "stream",
          "name": "stdout",
          "text": [
            "2 7 11 15\n",
            "9\n",
            "[0, 1]\n"
          ]
        }
      ],
      "source": [
        "def somthing(nums,target):\n",
        "    arr=[]\n",
        "    for i in range(0,len(nums)):\n",
        "        for j in range(0,len(nums)):\n",
        "            if j == len(nums) or j == i:\n",
        "              continue\n",
        "            elif nums[i] + nums[j] == target:\n",
        "                arr.append(i)\n",
        "                arr.append(j)\n",
        "                return arr\n",
        "\n",
        "\n",
        "\n",
        "num=list(map(int,input().split()))\n",
        "target=int(input())\n",
        "\n",
        "print(somthing(num,target))\n"
      ]
    },
    {
      "cell_type": "markdown",
      "source": [
        "**Question 2:** Group Anagrams\n",
        "\n",
        "Given an array of strings strs, group the anagrams together. You can return the answer in any order.\n",
        "\n",
        "An Anagram is a word or phrase formed by rearranging the letters of a different word or phrase,typically using all the original letters exactly once.\n",
        "\n",
        "**Example:**\n",
        "\n",
        "Input: strs = `[\"eat\",\"tea\",\"tan\",\"ate\",\"nat\",\"bat\"]`\n",
        "\n",
        "Output: `[[\"bat\"],[\"nat\",\"tan\"],[\"ate\",\"eat\",\"tea\"]]`"
      ],
      "metadata": {
        "id": "29CSv2rll444"
      }
    },
    {
      "cell_type": "code",
      "source": [
        "global string\n",
        "global arr1\n",
        "def group(string):\n",
        "  arr=[]\n",
        "  arr1=[]\n",
        "  for i in string:\n",
        "    for st in i:\n",
        "      for j in string:\n",
        "        if st in j:\n",
        "            if j not in arr:\n",
        "              arr.append(j)\n",
        "              continue\n",
        "            else:\n",
        "              continue\n",
        "        else:\n",
        "          if j in arr:\n",
        "            arr.remove(j)\n",
        "      if arr not in arr1 and string != arr:\n",
        "        arr1.append(arr)\n",
        "      arr=[]\n",
        "      continue\n",
        "  return sorted(arr1,key=len)\n",
        "\n",
        "\n",
        "string=list(map(str,input().split(\" \")))\n",
        "print(group(string))\n"
      ],
      "metadata": {
        "colab": {
          "base_uri": "https://localhost:8080/"
        },
        "id": "fd_BIr8qof06",
        "outputId": "834846ae-5c47-4de3-ce98-9b334c4eefe7"
      },
      "execution_count": null,
      "outputs": [
        {
          "output_type": "stream",
          "name": "stdout",
          "text": [
            "mat bat rat hat tea tar atm\n",
            "[['bat'], ['hat'], ['tea'], ['mat', 'atm'], ['rat', 'tar']]\n"
          ]
        }
      ]
    },
    {
      "cell_type": "markdown",
      "source": [
        "**Question 3:** Longest Substring Without Repeating Characters\n",
        "\n",
        "Given a string s, find the length of the longest substring without repeating characters.\n",
        "\n",
        "**Example:**\n",
        "\n",
        "Input: s = `\"abcabcbb\"`\n",
        "\n",
        "Output: `3`\n",
        "\n",
        "Explanation: The answer is `\"abc\"`, with the length of `3`."
      ],
      "metadata": {
        "id": "NH_rRZ416N_k"
      }
    },
    {
      "cell_type": "code",
      "source": [
        "def repeat(string):\n",
        "  setarr=[]\n",
        "  st=''\n",
        "  arr=[]\n",
        "  for i in range(0,len(string)):\n",
        "    if string[i] not in setarr:\n",
        "      setarr.append(string[i])\n",
        "\n",
        "  for i in range(0,len(setarr)+1):\n",
        "    if i != len(setarr):\n",
        "      st+=setarr[i]\n",
        "      if st in string:\n",
        "        continue\n",
        "      else:\n",
        "        arr.append(st)\n",
        "        st=setarr[i]\n",
        "        continue\n",
        "    else:\n",
        "      arr.append(st)\n",
        "\n",
        "  return max(arr,key=len)\n",
        "\n",
        "s=input()\n",
        "print(len(repeat(s)))\n"
      ],
      "metadata": {
        "colab": {
          "base_uri": "https://localhost:8080/"
        },
        "id": "OGQ_4sXZ609R",
        "outputId": "fbb8820f-f211-4ef0-db58-1de967a5ea36"
      },
      "execution_count": 29,
      "outputs": [
        {
          "output_type": "stream",
          "name": "stdout",
          "text": [
            "abcabcbb\n",
            "3\n"
          ]
        }
      ]
    },
    {
      "cell_type": "markdown",
      "source": [
        "**Question 4:** Top K Frequent Elements\n",
        "\n",
        "Given an integer array nums and an integer `k`, return the k most frequent elements. You may return the answer in any order.\n",
        "\n",
        "**Example:**\n",
        "\n",
        "Input: nums = `[1,1,1,2,2,3]`, k = `2`\n",
        "\n",
        "Output: `[1,2]`"
      ],
      "metadata": {
        "id": "KVwhN_9zFvMY"
      }
    },
    {
      "cell_type": "code",
      "source": [
        "def hash(nums,k):\n",
        "  dt={}\n",
        "  for i in nums:\n",
        "    if i in dt:\n",
        "      dt[i]+=1\n",
        "    else:\n",
        "      dt[i]=1\n",
        "  arr=[]\n",
        "  for j in dt:\n",
        "    if dt[j] >= k:\n",
        "      arr.append(j)\n",
        "  return arr\n",
        "\n",
        "nums=list(map(int,input().split()))\n",
        "k=int(input())\n",
        "print(hash(nums,k))"
      ],
      "metadata": {
        "id": "pe78kMDeGSOK",
        "outputId": "14c17d00-cbcd-45a3-bae5-cbcfaa7f7499",
        "colab": {
          "base_uri": "https://localhost:8080/"
        }
      },
      "execution_count": 35,
      "outputs": [
        {
          "output_type": "stream",
          "name": "stdout",
          "text": [
            "1 1 1 2 2 3\n",
            "2\n",
            "[1, 2]\n"
          ]
        }
      ]
    },
    {
      "cell_type": "markdown",
      "source": [
        "**Question 5:** Valid Anagram\n",
        "\n",
        "Given two strings `s` and `t`, return true if t is an `anagram` of `s`, and false otherwise.\n",
        "\n",
        "**Example:**\n",
        "\n",
        "Input: s = `\"anagram\"`, t = `\"nagaram\"`\n",
        "\n",
        "Output: `true`\n",
        "\n",
        "Input: s = `\"rat\"`, t = `\"car\"`\n",
        "\n",
        "Output: `false`"
      ],
      "metadata": {
        "id": "4d7xNkVkEPKt"
      }
    },
    {
      "cell_type": "code",
      "source": [
        "def anagram(s,t):\n",
        "  s1=sorted(s)\n",
        "  t1=sorted(t)\n",
        "  if s1 == t1:\n",
        "    return True\n",
        "  else:\n",
        "    return False\n",
        "\n",
        "s=input()\n",
        "t=input()\n",
        "print(anagram(s,t))"
      ],
      "metadata": {
        "id": "GxYGzI-JFcV8",
        "outputId": "6055e054-34fe-4e0c-c643-6b0bdbd3145b",
        "colab": {
          "base_uri": "https://localhost:8080/"
        }
      },
      "execution_count": 31,
      "outputs": [
        {
          "output_type": "stream",
          "name": "stdout",
          "text": [
            "anagram\n",
            "nagaram\n",
            "True\n"
          ]
        }
      ]
    }
  ],
  "metadata": {
    "kernelspec": {
      "display_name": "Python 3",
      "language": "python",
      "name": "python3"
    },
    "language_info": {
      "codemirror_mode": {
        "name": "ipython",
        "version": 3
      },
      "file_extension": ".py",
      "mimetype": "text/x-python",
      "name": "python",
      "nbconvert_exporter": "python",
      "pygments_lexer": "ipython3",
      "version": "3.12.3"
    },
    "colab": {
      "provenance": []
    }
  },
  "nbformat": 4,
  "nbformat_minor": 0
}

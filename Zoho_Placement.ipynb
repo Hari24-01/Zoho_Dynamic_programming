{
  "nbformat": 4,
  "nbformat_minor": 0,
  "metadata": {
    "colab": {
      "provenance": [],
      "authorship_tag": "ABX9TyMaMgi2I8HqNvVroScpdRv7"
    },
    "kernelspec": {
      "name": "python3",
      "display_name": "Python 3"
    },
    "language_info": {
      "name": "python"
    }
  },
  "cells": [
    {
      "cell_type": "markdown",
      "source": [
        "# Zoho Placement Camp"
      ],
      "metadata": {
        "id": "igq2SzFhyITC"
      }
    },
    {
      "cell_type": "markdown",
      "source": [
        "Question 2\n",
        "Problem Description:\n",
        "Given a string `s`, return the longest palindromic substring in `s`.\n",
        "Input Description:\n",
        "A string `s`.\n",
        "Output Description:\n",
        "The longest palindromic substring in `s`.\n",
        "Examples:\n",
        "\n",
        "**Example 1:**\n",
        "- Input: `s = \"babad\"`\n",
        "- Output: `\"bab\"`\n",
        "- Explanation: `\"aba\"` is also a valid answer.\n",
        "\n",
        "**Example 2:**\n",
        "- Input: `s = \"cbbd\"`\n",
        "- Output: `\"bb\"`\n",
        "Constraints:\n",
        "1 <= s.length <= 1000\n",
        "s consists of only digits and English letters."
      ],
      "metadata": {
        "id": "Lo5--1TITPju"
      }
    },
    {
      "cell_type": "code",
      "source": [
        "def palind(st):\n",
        "  arr=[]\n",
        "  m=''\n",
        "  for i in st:\n",
        "     m+=i\n",
        "\n",
        "     if m == m[::-1]:\n",
        "        arr.append(m)\n",
        "     elif m != m[::-1]:\n",
        "        m=i\n",
        "  leng=len(arr[0])\n",
        "  for j in arr:\n",
        "      if len(j) > leng:\n",
        "        leng=len(j)\n",
        "  return arr[leng-1]\n",
        "\n",
        "\n",
        "s = input()\n",
        "print(palind(s))\n"
      ],
      "metadata": {
        "id": "OUF3yAcK5ARq",
        "colab": {
          "base_uri": "https://localhost:8080/"
        },
        "outputId": "be272c50-f4b2-4e5b-8360-ae0a4aba68e3"
      },
      "execution_count": 31,
      "outputs": [
        {
          "output_type": "stream",
          "name": "stdout",
          "text": [
            "cbbd\n",
            "bb\n"
          ]
        }
      ]
    }
  ]
}